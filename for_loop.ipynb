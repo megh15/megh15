{
 "cells": [
  {
   "cell_type": "code",
   "execution_count": 2,
   "id": "d7e0195e",
   "metadata": {},
   "outputs": [
    {
     "name": "stdout",
     "output_type": "stream",
     "text": [
      "heads count:  1\n",
      "heads count:  2\n",
      "heads count:  3\n",
      "heads count:  4\n"
     ]
    }
   ],
   "source": [
    "#print how many times head occurs\n",
    "result = [\"heads\",\"tails\",\"tails\",\"heads\",\"tails\",\"heads\",\"heads\",\"tails\",\"tails\",\"tails\"]\n",
    "count=0\n",
    "for i in result:\n",
    "    if i==\"heads\":\n",
    "        count+=1\n",
    "        print(\"heads count: \",count)"
   ]
  },
  {
   "cell_type": "code",
   "execution_count": 5,
   "id": "e9d34726",
   "metadata": {},
   "outputs": [
    {
     "name": "stdout",
     "output_type": "stream",
     "text": [
      "1\n",
      "9\n",
      "25\n",
      "49\n",
      "81\n"
     ]
    }
   ],
   "source": [
    "#print squares of numbers from 1-10 except even numbers\n",
    "for i in range(11):\n",
    "    if i%2 != 0:\n",
    "        res=i*i\n",
    "        print(res)"
   ]
  },
  {
   "cell_type": "code",
   "execution_count": null,
   "id": "b2de8c13",
   "metadata": {},
   "outputs": [],
   "source": [
    "#Lets say you are running a 5 km race. Write a program that,\n",
    "   #1. Upon completing each 1 km asks you \"are you tired?\"\n",
    "   #2. If you reply \"yes\" then it should break and print \"you didn't finish the race\"\n",
    "   #3. If you reply \"no\" then it should continue and ask \"are you tired\" on every km\n",
    "   #4. If you finish all 5 km then it should print congratulations message\n",
    "\n",
    "for i in range(5):\n",
    "    print(f\"you ran {i+1} miles\")\n",
    "    tired=input(\"are you tired? \")\n",
    "    if tired == 'yes':\n",
    "        break\n",
    "        \n",
    "    if i==4:\n",
    "        print(\"you finished 5km race\")\n",
    "    else:\n",
    "        print(\"youdidn't finish 5 km race but u ran {i+1} miles\")\n"
   ]
  },
  {
   "cell_type": "code",
   "execution_count": 4,
   "id": "5ab0c304",
   "metadata": {},
   "outputs": [
    {
     "name": "stdout",
     "output_type": "stream",
     "text": [
      "you ran 1 miles\n",
      "are you tired? no\n",
      "youdidn't finish 5 km race but u ran {i+1} miles\n",
      "you ran 2 miles\n",
      "are you tired? no\n",
      "youdidn't finish 5 km race but u ran {i+1} miles\n",
      "you ran 3 miles\n",
      "are you tired? no\n",
      "youdidn't finish 5 km race but u ran {i+1} miles\n",
      "you ran 4 miles\n",
      "are you tired? no\n",
      "youdidn't finish 5 km race but u ran {i+1} miles\n",
      "you ran 5 miles\n",
      "are you tired? no\n",
      "you finished 5km race\n"
     ]
    }
   ],
   "source": [
    "for i in range(5):\n",
    "    print(f\"you ran {i+1} miles\")\n",
    "    tired=input(\"are you tired? \")\n",
    "    if tired == 'yes':\n",
    "        break\n",
    "        \n",
    "    if i==4:\n",
    "        print(\"you finished 5km race\")\n",
    "    else:\n",
    "        print(\"youdidn't finish 5 km race but u ran {i+1} miles\")\n"
   ]
  },
  {
   "cell_type": "code",
   "execution_count": 22,
   "id": "87d3da24",
   "metadata": {},
   "outputs": [
    {
     "name": "stdout",
     "output_type": "stream",
     "text": [
      "enter the number of rows:5\n",
      "* \n",
      "* * \n",
      "* * * \n",
      "* * * * \n",
      "* * * * * \n"
     ]
    }
   ],
   "source": [
    "#print the following pattern\n",
    "'''\n",
    "*\n",
    "**\n",
    "***\n",
    "****\n",
    "*****\n",
    "'''\n",
    "\n",
    "n=int(input(\"enter the number of rows:\"))\n",
    "for i in range(1,n+1):#for rows\n",
    "    for j in range(1,i+1):#for columns....i+1=increasing column \n",
    "        print(\"*\",end=\" \")\n",
    "    print()"
   ]
  },
  {
   "cell_type": "code",
   "execution_count": 9,
   "id": "6285fc33",
   "metadata": {},
   "outputs": [
    {
     "name": "stdout",
     "output_type": "stream",
     "text": [
      "enter the number of rows:5\n",
      "* * * * * \n",
      "* * * * \n",
      "* * * \n",
      "* * \n",
      "* \n"
     ]
    }
   ],
   "source": [
    "n=int(input(\"enter the number of rows:\"))\n",
    "for i in range(n,0,-1):#for rows\n",
    "    for j in range(1,i+1):#for columns....i+1=increasing column \n",
    "        print(\"*\",end=\" \")\n",
    "    print()"
   ]
  },
  {
   "cell_type": "code",
   "execution_count": null,
   "id": "6d574ef5",
   "metadata": {},
   "outputs": [],
   "source": [
    "for i in range(5):\n",
    "    print(f\"you ran {i+1} miles\")\n",
    "    tired=input(\"are you tired? \")\n",
    "    if tired == 'yes':\n",
    "        break\n",
    "        \n",
    "    if i==4:\n",
    "        print(\"you finished 5km race\")\n",
    "    else:\n",
    "        print(\"youdidn't finish 5 km race but u ran {i+1} miles\")"
   ]
  },
  {
   "cell_type": "code",
   "execution_count": 5,
   "id": "5bf4a3d6",
   "metadata": {},
   "outputs": [
    {
     "name": "stdout",
     "output_type": "stream",
     "text": [
      "\n",
      "exercise 5\n",
      "\n",
      "enter your expense amount2100\n",
      "you spent 2100 in march\n"
     ]
    }
   ],
   "source": [
    "print(\"\\nexercise 5\\n\")\n",
    "month_list=[\"january\",\"february\",\"march\",\"april\",\"may\"]\n",
    "expense_list=[2340,2500,2100,3100,2980]\n",
    "e=input(\"enter your expense amount\")\n",
    "e=int(e)\n",
    "\n",
    "month=-1\n",
    "for i in range(len(expense_list)):\n",
    "    if e == expense_list[i]:\n",
    "        month=i\n",
    "        break\n",
    "if month!=-1:\n",
    "    print(f\"you spent {e} in {month_list[month]}\")\n",
    "else:\n",
    "    print(f\"you didn't spend {e} in any month\")"
   ]
  },
  {
   "cell_type": "code",
   "execution_count": null,
   "id": "2186768a",
   "metadata": {},
   "outputs": [],
   "source": []
  },
  {
   "cell_type": "code",
   "execution_count": null,
   "id": "c7c0172f",
   "metadata": {},
   "outputs": [],
   "source": []
  }
 ],
 "metadata": {
  "kernelspec": {
   "display_name": "Python 3",
   "language": "python",
   "name": "python3"
  },
  "language_info": {
   "codemirror_mode": {
    "name": "ipython",
    "version": 3
   },
   "file_extension": ".py",
   "mimetype": "text/x-python",
   "name": "python",
   "nbconvert_exporter": "python",
   "pygments_lexer": "ipython3",
   "version": "3.8.8"
  }
 },
 "nbformat": 4,
 "nbformat_minor": 5
}
