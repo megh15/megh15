{
 "cells": [
  {
   "cell_type": "code",
   "execution_count": 1,
   "id": "9621bdb8",
   "metadata": {},
   "outputs": [
    {
     "ename": "SyntaxError",
     "evalue": "invalid syntax (<ipython-input-1-9acbbc05f727>, line 4)",
     "output_type": "error",
     "traceback": [
      "\u001b[1;36m  File \u001b[1;32m\"<ipython-input-1-9acbbc05f727>\"\u001b[1;36m, line \u001b[1;32m4\u001b[0m\n\u001b[1;33m    print(\" the address is :\"street+\" \"+city+\" \"+country)\u001b[0m\n\u001b[1;37m                             ^\u001b[0m\n\u001b[1;31mSyntaxError\u001b[0m\u001b[1;31m:\u001b[0m invalid syntax\n"
     ]
    }
   ],
   "source": [
    "street=\"bakori road\"\n",
    "city=\"pune\"\n",
    "country=\"India\"\n",
    "print(\" the address is :\"street+\" \"+city+\" \"+country)"
   ]
  },
  {
   "cell_type": "code",
   "execution_count": 2,
   "id": "206f9dc9",
   "metadata": {},
   "outputs": [
    {
     "ename": "NameError",
     "evalue": "name 'street' is not defined",
     "output_type": "error",
     "traceback": [
      "\u001b[1;31m---------------------------------------------------------------------------\u001b[0m",
      "\u001b[1;31mNameError\u001b[0m                                 Traceback (most recent call last)",
      "\u001b[1;32m<ipython-input-2-231293dabff5>\u001b[0m in \u001b[0;36m<module>\u001b[1;34m\u001b[0m\n\u001b[1;32m----> 1\u001b[1;33m \u001b[0mprint\u001b[0m\u001b[1;33m(\u001b[0m\u001b[1;34m\" the address is :\"\u001b[0m\u001b[1;33m,\u001b[0m\u001b[0mstreet\u001b[0m\u001b[1;33m+\u001b[0m\u001b[1;34m\" \"\u001b[0m\u001b[1;33m+\u001b[0m\u001b[0mcity\u001b[0m\u001b[1;33m+\u001b[0m\u001b[1;34m\" \"\u001b[0m\u001b[1;33m+\u001b[0m\u001b[0mcountry\u001b[0m\u001b[1;33m)\u001b[0m\u001b[1;33m\u001b[0m\u001b[1;33m\u001b[0m\u001b[0m\n\u001b[0m",
      "\u001b[1;31mNameError\u001b[0m: name 'street' is not defined"
     ]
    }
   ],
   "source": [
    "print(\" the address is :\",street+\" \"+city+\" \"+country)"
   ]
  },
  {
   "cell_type": "code",
   "execution_count": 3,
   "id": "e02ccb17",
   "metadata": {},
   "outputs": [
    {
     "name": "stdout",
     "output_type": "stream",
     "text": [
      " the address is : bakori road pune India\n"
     ]
    }
   ],
   "source": [
    "street='bakori road'\n",
    "city='pune'\n",
    "country='India'\n",
    "print(' the address is :' ,street+' '+city+' '+country)"
   ]
  },
  {
   "cell_type": "code",
   "execution_count": 4,
   "id": "57f3906f",
   "metadata": {},
   "outputs": [
    {
     "ename": "SyntaxError",
     "evalue": "EOL while scanning string literal (<ipython-input-4-c32b267109c1>, line 1)",
     "output_type": "error",
     "traceback": [
      "\u001b[1;36m  File \u001b[1;32m\"<ipython-input-4-c32b267109c1>\"\u001b[1;36m, line \u001b[1;32m1\u001b[0m\n\u001b[1;33m    f'{street} {city} {country}\u001b[0m\n\u001b[1;37m                               ^\u001b[0m\n\u001b[1;31mSyntaxError\u001b[0m\u001b[1;31m:\u001b[0m EOL while scanning string literal\n"
     ]
    }
   ],
   "source": [
    "f'{street} {city} {country}"
   ]
  },
  {
   "cell_type": "code",
   "execution_count": 5,
   "id": "fcfd589f",
   "metadata": {},
   "outputs": [
    {
     "data": {
      "text/plain": [
       "'bakori road pune India'"
      ]
     },
     "execution_count": 5,
     "metadata": {},
     "output_type": "execute_result"
    }
   ],
   "source": [
    "f'{street} {city} {country}'"
   ]
  },
  {
   "cell_type": "code",
   "execution_count": 6,
   "id": "11b68f4e",
   "metadata": {},
   "outputs": [],
   "source": [
    "s='bakori road\\npune\\nIndia'"
   ]
  },
  {
   "cell_type": "code",
   "execution_count": 7,
   "id": "b7d2b95f",
   "metadata": {},
   "outputs": [
    {
     "data": {
      "text/plain": [
       "'bakori road\\npune\\nIndia'"
      ]
     },
     "execution_count": 7,
     "metadata": {},
     "output_type": "execute_result"
    }
   ],
   "source": [
    "s"
   ]
  },
  {
   "cell_type": "code",
   "execution_count": 8,
   "id": "7346ae0c",
   "metadata": {},
   "outputs": [
    {
     "name": "stdout",
     "output_type": "stream",
     "text": [
      "bakori road\n",
      "pune\n",
      "India\n"
     ]
    }
   ],
   "source": [
    "print(s)"
   ]
  },
  {
   "cell_type": "code",
   "execution_count": 9,
   "id": "f1b524a2",
   "metadata": {},
   "outputs": [
    {
     "ename": "NameError",
     "evalue": "name 'x' is not defined",
     "output_type": "error",
     "traceback": [
      "\u001b[1;31m---------------------------------------------------------------------------\u001b[0m",
      "\u001b[1;31mNameError\u001b[0m                                 Traceback (most recent call last)",
      "\u001b[1;32m<ipython-input-9-63feb57d3962>\u001b[0m in \u001b[0;36m<module>\u001b[1;34m\u001b[0m\n\u001b[1;32m----> 1\u001b[1;33m \u001b[1;34mf'I eat {x} veggies and {y} fruits daily'\u001b[0m\u001b[1;33m.\u001b[0m\u001b[0mformat\u001b[0m\u001b[1;33m(\u001b[0m\u001b[0mx\u001b[0m\u001b[1;33m=\u001b[0m\u001b[1;36m100\u001b[0m\u001b[1;33m,\u001b[0m\u001b[0my\u001b[0m\u001b[1;33m=\u001b[0m\u001b[1;36m45\u001b[0m\u001b[1;33m)\u001b[0m\u001b[1;33m\u001b[0m\u001b[1;33m\u001b[0m\u001b[0m\n\u001b[0m",
      "\u001b[1;31mNameError\u001b[0m: name 'x' is not defined"
     ]
    }
   ],
   "source": [
    "f'I eat {x} veggies and {y} fruits daily'.format(x=100,y=45)"
   ]
  },
  {
   "cell_type": "code",
   "execution_count": 10,
   "id": "9196f175",
   "metadata": {},
   "outputs": [
    {
     "ename": "SyntaxError",
     "evalue": "invalid syntax (<ipython-input-10-38333ebd3cd3>, line 1)",
     "output_type": "error",
     "traceback": [
      "\u001b[1;36m  File \u001b[1;32m\"<ipython-input-10-38333ebd3cd3>\"\u001b[1;36m, line \u001b[1;32m1\u001b[0m\n\u001b[1;33m    I eat {x} veggies and {y} fruits daily'.format(x=100,y=45)\u001b[0m\n\u001b[1;37m      ^\u001b[0m\n\u001b[1;31mSyntaxError\u001b[0m\u001b[1;31m:\u001b[0m invalid syntax\n"
     ]
    }
   ],
   "source": [
    "I eat {x} veggies and {y} fruits daily'.format(x=100,y=45)"
   ]
  },
  {
   "cell_type": "code",
   "execution_count": 11,
   "id": "d58dd4d2",
   "metadata": {},
   "outputs": [
    {
     "ename": "NameError",
     "evalue": "name 'x' is not defined",
     "output_type": "error",
     "traceback": [
      "\u001b[1;31m---------------------------------------------------------------------------\u001b[0m",
      "\u001b[1;31mNameError\u001b[0m                                 Traceback (most recent call last)",
      "\u001b[1;32m<ipython-input-11-2fe298be035d>\u001b[0m in \u001b[0;36m<module>\u001b[1;34m\u001b[0m\n\u001b[1;32m----> 1\u001b[1;33m \u001b[1;34mf'I eat {x} veggies and {y} fruits daily.format(x=100,y=45)'\u001b[0m\u001b[1;33m\u001b[0m\u001b[1;33m\u001b[0m\u001b[0m\n\u001b[0m",
      "\u001b[1;31mNameError\u001b[0m: name 'x' is not defined"
     ]
    }
   ],
   "source": [
    "f'I eat {x} veggies and {y} fruits daily.format(x=100,y=45)'"
   ]
  },
  {
   "cell_type": "code",
   "execution_count": 12,
   "id": "435890c0",
   "metadata": {},
   "outputs": [
    {
     "data": {
      "text/plain": [
       "'I eat 100 veggies and 45 fruits daily'"
      ]
     },
     "execution_count": 12,
     "metadata": {},
     "output_type": "execute_result"
    }
   ],
   "source": [
    "e=100\n",
    "'I eat {x} veggies and {y} fruits daily'.format(x=100,y=45)"
   ]
  },
  {
   "cell_type": "code",
   "execution_count": 13,
   "id": "66e5b3f0",
   "metadata": {},
   "outputs": [
    {
     "ename": "NameError",
     "evalue": "name 'x' is not defined",
     "output_type": "error",
     "traceback": [
      "\u001b[1;31m---------------------------------------------------------------------------\u001b[0m",
      "\u001b[1;31mNameError\u001b[0m                                 Traceback (most recent call last)",
      "\u001b[1;32m<ipython-input-13-f3f4bc5b7a0a>\u001b[0m in \u001b[0;36m<module>\u001b[1;34m\u001b[0m\n\u001b[0;32m      1\u001b[0m \u001b[0me\u001b[0m\u001b[1;33m=\u001b[0m\u001b[1;36m100\u001b[0m\u001b[1;33m\u001b[0m\u001b[1;33m\u001b[0m\u001b[0m\n\u001b[1;32m----> 2\u001b[1;33m \u001b[1;34mf'I eat {x} veggies and {y} fruits daily'\u001b[0m\u001b[1;33m.\u001b[0m\u001b[0mformat\u001b[0m\u001b[1;33m(\u001b[0m\u001b[0mx\u001b[0m\u001b[1;33m=\u001b[0m\u001b[1;36m100\u001b[0m\u001b[1;33m,\u001b[0m\u001b[0my\u001b[0m\u001b[1;33m=\u001b[0m\u001b[1;36m45\u001b[0m\u001b[1;33m)\u001b[0m\u001b[1;33m\u001b[0m\u001b[1;33m\u001b[0m\u001b[0m\n\u001b[0m",
      "\u001b[1;31mNameError\u001b[0m: name 'x' is not defined"
     ]
    }
   ],
   "source": [
    "e=100\n",
    "f'I eat {x} veggies and {y} fruits daily'.format(x=100,y=45)"
   ]
  },
  {
   "cell_type": "code",
   "execution_count": 14,
   "id": "7d9b1559",
   "metadata": {},
   "outputs": [
    {
     "name": "stdout",
     "output_type": "stream",
     "text": [
      "I eat 100 veggies and 200 fruits daily\n"
     ]
    }
   ],
   "source": [
    "x=100\n",
    "y=200\n",
    "print(f\"I eat {x} veggies and {y} fruits daily\")"
   ]
  },
  {
   "cell_type": "code",
   "execution_count": 15,
   "id": "f7eb0b98",
   "metadata": {},
   "outputs": [],
   "source": [
    "s=\"maine 200 banana khaye\""
   ]
  },
  {
   "cell_type": "code",
   "execution_count": 16,
   "id": "4665de66",
   "metadata": {},
   "outputs": [
    {
     "data": {
      "text/plain": [
       "'maine 100 banana khaye'"
      ]
     },
     "execution_count": 16,
     "metadata": {},
     "output_type": "execute_result"
    }
   ],
   "source": [
    "s.replace('200','100')"
   ]
  },
  {
   "cell_type": "code",
   "execution_count": 17,
   "id": "e02a16dd",
   "metadata": {},
   "outputs": [
    {
     "data": {
      "text/plain": [
       "'maine 200 samosa khaye'"
      ]
     },
     "execution_count": 17,
     "metadata": {},
     "output_type": "execute_result"
    }
   ],
   "source": [
    "s.replace('banana','samosa')"
   ]
  },
  {
   "cell_type": "code",
   "execution_count": 18,
   "id": "a0a4c88e",
   "metadata": {},
   "outputs": [],
   "source": [
    "t='Earth revolves around the sun'"
   ]
  },
  {
   "cell_type": "code",
   "execution_count": 19,
   "id": "5c1ece4f",
   "metadata": {},
   "outputs": [
    {
     "data": {
      "text/plain": [
       "' revolve'"
      ]
     },
     "execution_count": 19,
     "metadata": {},
     "output_type": "execute_result"
    }
   ],
   "source": [
    "t[-24:-16]"
   ]
  },
  {
   "cell_type": "code",
   "execution_count": 20,
   "id": "80e985fa",
   "metadata": {},
   "outputs": [
    {
     "data": {
      "text/plain": [
       "' revolv'"
      ]
     },
     "execution_count": 20,
     "metadata": {},
     "output_type": "execute_result"
    }
   ],
   "source": [
    "t[-24:-17]"
   ]
  },
  {
   "cell_type": "code",
   "execution_count": 21,
   "id": "37411c62",
   "metadata": {},
   "outputs": [
    {
     "data": {
      "text/plain": [
       "' revolves'"
      ]
     },
     "execution_count": 21,
     "metadata": {},
     "output_type": "execute_result"
    }
   ],
   "source": [
    "t[-24:-15]"
   ]
  },
  {
   "cell_type": "code",
   "execution_count": 22,
   "id": "baf775ff",
   "metadata": {},
   "outputs": [
    {
     "data": {
      "text/plain": [
       "' revolves'"
      ]
     },
     "execution_count": 22,
     "metadata": {},
     "output_type": "execute_result"
    }
   ],
   "source": [
    "t[5:14]"
   ]
  },
  {
   "cell_type": "code",
   "execution_count": 23,
   "id": "de3bf5d6",
   "metadata": {},
   "outputs": [
    {
     "data": {
      "text/plain": [
       "' sun'"
      ]
     },
     "execution_count": 23,
     "metadata": {},
     "output_type": "execute_result"
    }
   ],
   "source": [
    "t[-4:]"
   ]
  },
  {
   "cell_type": "code",
   "execution_count": null,
   "id": "17444535",
   "metadata": {},
   "outputs": [],
   "source": []
  }
 ],
 "metadata": {
  "kernelspec": {
   "display_name": "Python 3",
   "language": "python",
   "name": "python3"
  },
  "language_info": {
   "codemirror_mode": {
    "name": "ipython",
    "version": 3
   },
   "file_extension": ".py",
   "mimetype": "text/x-python",
   "name": "python",
   "nbconvert_exporter": "python",
   "pygments_lexer": "ipython3",
   "version": "3.8.8"
  }
 },
 "nbformat": 4,
 "nbformat_minor": 5
}
