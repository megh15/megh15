{
 "cells": [
  {
   "cell_type": "code",
   "execution_count": 1,
   "id": "ed3b39a8",
   "metadata": {},
   "outputs": [
    {
     "data": {
      "text/plain": [
       "4782.4"
      ]
     },
     "execution_count": 1,
     "metadata": {},
     "output_type": "execute_result"
    }
   ],
   "source": [
    "l=98\n",
    "b=48.8\n",
    "l*b"
   ]
  },
  {
   "cell_type": "code",
   "execution_count": 2,
   "id": "d6d8d8af",
   "metadata": {},
   "outputs": [
    {
     "data": {
      "text/plain": [
       "13.41"
      ]
     },
     "execution_count": 2,
     "metadata": {},
     "output_type": "execute_result"
    }
   ],
   "source": [
    "9*1.49"
   ]
  },
  {
   "cell_type": "code",
   "execution_count": 3,
   "id": "957b9264",
   "metadata": {},
   "outputs": [
    {
     "data": {
      "text/plain": [
       "6.59"
      ]
     },
     "execution_count": 3,
     "metadata": {},
     "output_type": "execute_result"
    }
   ],
   "source": [
    "20-(9*1.49)"
   ]
  },
  {
   "cell_type": "code",
   "execution_count": 4,
   "id": "747bb474",
   "metadata": {},
   "outputs": [
    {
     "data": {
      "text/plain": [
       "6.59"
      ]
     },
     "execution_count": 4,
     "metadata": {},
     "output_type": "execute_result"
    }
   ],
   "source": [
    "20-13.41"
   ]
  },
  {
   "cell_type": "code",
   "execution_count": null,
   "id": "2f62f816",
   "metadata": {},
   "outputs": [],
   "source": [
    "#the shopkeeper is going to give $6.59"
   ]
  },
  {
   "cell_type": "code",
   "execution_count": 5,
   "id": "fd9abfaa",
   "metadata": {},
   "outputs": [],
   "source": [
    "area=5.5**2"
   ]
  },
  {
   "cell_type": "code",
   "execution_count": 6,
   "id": "7c0962f5",
   "metadata": {},
   "outputs": [
    {
     "data": {
      "text/plain": [
       "30.25"
      ]
     },
     "execution_count": 6,
     "metadata": {},
     "output_type": "execute_result"
    }
   ],
   "source": [
    "area"
   ]
  },
  {
   "cell_type": "code",
   "execution_count": 7,
   "id": "c0cd2c73",
   "metadata": {},
   "outputs": [
    {
     "data": {
      "text/plain": [
       "15125.0"
      ]
     },
     "execution_count": 7,
     "metadata": {},
     "output_type": "execute_result"
    }
   ],
   "source": [
    "total_cost=500*30.25\n",
    "total_cost"
   ]
  },
  {
   "cell_type": "code",
   "execution_count": null,
   "id": "8885a11a",
   "metadata": {},
   "outputs": [],
   "source": [
    "#total cost to replace the tiles is Rs.15125"
   ]
  },
  {
   "cell_type": "code",
   "execution_count": 8,
   "id": "173f048e",
   "metadata": {},
   "outputs": [
    {
     "name": "stdout",
     "output_type": "stream",
     "text": [
      "200 b\n"
     ]
    }
   ],
   "source": [
    "print(200,'b')"
   ]
  },
  {
   "cell_type": "code",
   "execution_count": 9,
   "id": "aba44a7e",
   "metadata": {},
   "outputs": [
    {
     "name": "stdout",
     "output_type": "stream",
     "text": [
      "11001000\n"
     ]
    }
   ],
   "source": [
    "print(format(200,'b'))"
   ]
  },
  {
   "cell_type": "code",
   "execution_count": 10,
   "id": "be28a0fd",
   "metadata": {},
   "outputs": [
    {
     "data": {
      "text/plain": [
       "200"
      ]
     },
     "execution_count": 10,
     "metadata": {},
     "output_type": "execute_result"
    }
   ],
   "source": [
    "int('11001000',2)"
   ]
  },
  {
   "cell_type": "code",
   "execution_count": 11,
   "id": "81e157f0",
   "metadata": {},
   "outputs": [
    {
     "name": "stdout",
     "output_type": "stream",
     "text": [
      "310\n"
     ]
    }
   ],
   "source": [
    "print(format(200,'o'))"
   ]
  },
  {
   "cell_type": "code",
   "execution_count": 12,
   "id": "dbfe0103",
   "metadata": {},
   "outputs": [
    {
     "data": {
      "text/plain": [
       "200"
      ]
     },
     "execution_count": 12,
     "metadata": {},
     "output_type": "execute_result"
    }
   ],
   "source": [
    "int('310',8)"
   ]
  },
  {
   "cell_type": "code",
   "execution_count": null,
   "id": "5101391a",
   "metadata": {},
   "outputs": [],
   "source": []
  }
 ],
 "metadata": {
  "kernelspec": {
   "display_name": "Python 3",
   "language": "python",
   "name": "python3"
  },
  "language_info": {
   "codemirror_mode": {
    "name": "ipython",
    "version": 3
   },
   "file_extension": ".py",
   "mimetype": "text/x-python",
   "name": "python",
   "nbconvert_exporter": "python",
   "pygments_lexer": "ipython3",
   "version": "3.8.8"
  }
 },
 "nbformat": 4,
 "nbformat_minor": 5
}
