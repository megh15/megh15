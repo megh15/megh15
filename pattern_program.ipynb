{
 "cells": [
  {
   "cell_type": "code",
   "execution_count": 2,
   "id": "5a57bcde",
   "metadata": {},
   "outputs": [
    {
     "name": "stdout",
     "output_type": "stream",
     "text": [
      "enter the number of rows:5\n",
      "A A A A A \n",
      "B B B B B \n",
      "C C C C C \n",
      "D D D D D \n",
      "E E E E E \n"
     ]
    }
   ],
   "source": [
    "'''\n",
    "A A A A A\n",
    "B B B B B\n",
    "C C C C C \n",
    "D D D D D \n",
    "E E E E E\n",
    "'''\n",
    "\n",
    "n=int(input(\"enter the number of rows:\"))\n",
    "for i in range(1,n+1):\n",
    "    for j in range(1,n+1):\n",
    "        print(chr(64+i),end=\" \")\n",
    "    print()"
   ]
  },
  {
   "cell_type": "code",
   "execution_count": 8,
   "id": "8b9b5f26",
   "metadata": {},
   "outputs": [
    {
     "name": "stdout",
     "output_type": "stream",
     "text": [
      "enter the number of rows:5\n",
      "A B C D E \n",
      "A B C D E \n",
      "A B C D E \n",
      "A B C D E \n",
      "A B C D E \n"
     ]
    }
   ],
   "source": [
    "'''\n",
    "A B C D E \n",
    "A B C D E \n",
    "A B C D E \n",
    "A B C D E\n",
    "A B C D E\n",
    "'''\n",
    "\n",
    "n=int(input(\"enter the number of rows:\"))\n",
    "for i in range(1,n+1):\n",
    "    for j in range(1,n+1):\n",
    "        print(chr(64+j),end=\" \")\n",
    "    print()"
   ]
  },
  {
   "cell_type": "code",
   "execution_count": 10,
   "id": "2cbf86eb",
   "metadata": {},
   "outputs": [
    {
     "name": "stdout",
     "output_type": "stream",
     "text": [
      "enter the number of rows:5\n",
      "E E E E E \n",
      "D D D D D \n",
      "C C C C C \n",
      "B B B B B \n",
      "A A A A A \n"
     ]
    }
   ],
   "source": [
    "n=int(input(\"enter the number of rows:\"))\n",
    "for i in range(1,n+1):\n",
    "    for j in range(1,n+1):\n",
    "        print(chr(n+65-i),end=\" \")\n",
    "    print()"
   ]
  },
  {
   "cell_type": "code",
   "execution_count": 11,
   "id": "92dc99bb",
   "metadata": {},
   "outputs": [
    {
     "name": "stdout",
     "output_type": "stream",
     "text": [
      "enter the number of rows:5\n",
      "E D C B A \n",
      "E D C B A \n",
      "E D C B A \n",
      "E D C B A \n",
      "E D C B A \n"
     ]
    }
   ],
   "source": [
    "n=int(input(\"enter the number of rows:\"))\n",
    "for i in range(1,n+1):\n",
    "    for j in range(1,n+1):\n",
    "        print(chr(n+65-j),end=\" \")\n",
    "    print()"
   ]
  },
  {
   "cell_type": "code",
   "execution_count": 12,
   "id": "5dbbb702",
   "metadata": {},
   "outputs": [
    {
     "name": "stdout",
     "output_type": "stream",
     "text": [
      "enter the number of rows:6\n",
      "A \n",
      "B B \n",
      "C C C \n",
      "D D D D \n",
      "E E E E E \n",
      "F F F F F F \n"
     ]
    }
   ],
   "source": [
    "n=int(input(\"enter the number of rows:\"))\n",
    "for i in range(1,n+1):\n",
    "    for j in range(1,i+1):\n",
    "        print(chr(64+i),end=\" \")\n",
    "    print()"
   ]
  },
  {
   "cell_type": "code",
   "execution_count": 13,
   "id": "f4ed4563",
   "metadata": {},
   "outputs": [
    {
     "name": "stdout",
     "output_type": "stream",
     "text": [
      "enter the number of rows:5\n",
      "A \n",
      "A B \n",
      "A B C \n",
      "A B C D \n",
      "A B C D E \n"
     ]
    }
   ],
   "source": [
    "n=int(input(\"enter the number of rows:\"))\n",
    "for i in range(1,n+1):\n",
    "    for j in range(1,i+1):\n",
    "        print(chr(64+j),end=\" \")\n",
    "    print()"
   ]
  },
  {
   "cell_type": "code",
   "execution_count": 14,
   "id": "60947918",
   "metadata": {},
   "outputs": [
    {
     "name": "stdout",
     "output_type": "stream",
     "text": [
      "enter the number of rows:5\n",
      "A A A A A \n",
      "B B B B \n",
      "C C C \n",
      "D D \n",
      "E \n"
     ]
    }
   ],
   "source": [
    "n=int(input(\"enter the number of rows:\"))\n",
    "for i in range(1,n+1):\n",
    "    for j in range(1,n+2-i):\n",
    "        print(chr(64+i),end=\" \")\n",
    "    print()"
   ]
  },
  {
   "cell_type": "code",
   "execution_count": 15,
   "id": "dbbde813",
   "metadata": {},
   "outputs": [
    {
     "name": "stdout",
     "output_type": "stream",
     "text": [
      "enter the number of rows:5\n",
      "A B C D E \n",
      "A B C D \n",
      "A B C \n",
      "A B \n",
      "A \n"
     ]
    }
   ],
   "source": [
    "n=int(input(\"enter the number of rows:\"))\n",
    "for i in range(1,n+1):\n",
    "    for j in range(1,n+2-i):\n",
    "        print(chr(64+j),end=\" \")\n",
    "    print()"
   ]
  },
  {
   "cell_type": "code",
   "execution_count": 1,
   "id": "a4b8d5ae",
   "metadata": {},
   "outputs": [
    {
     "name": "stdout",
     "output_type": "stream",
     "text": [
      "enter the number of rows5\n",
      "* \n",
      "* * \n",
      "* * * \n",
      "* * * * \n",
      "* * * * * \n"
     ]
    }
   ],
   "source": [
    "n=int(input(\"enter the number of rows\"))\n",
    "\n",
    "for i in range(1,n+1):\n",
    "    for j in range(1,i+1):\n",
    "        print(\"*\",end=\" \")\n",
    "    print()"
   ]
  },
  {
   "cell_type": "code",
   "execution_count": 2,
   "id": "4f969687",
   "metadata": {},
   "outputs": [
    {
     "name": "stdout",
     "output_type": "stream",
     "text": [
      "enter the number of rows5\n",
      "* * * * * \n",
      "* * * * \n",
      "* * * \n",
      "* * \n",
      "* \n"
     ]
    }
   ],
   "source": [
    "n=int(input(\"enter the number of rows\"))\n",
    "\n",
    "for i in range(n,0,-1):\n",
    "    for j in range(1,i+1):\n",
    "        print(\"*\",end=\" \")\n",
    "    print()"
   ]
  },
  {
   "cell_type": "code",
   "execution_count": 3,
   "id": "9057b4c4",
   "metadata": {},
   "outputs": [
    {
     "name": "stdout",
     "output_type": "stream",
     "text": [
      "enter the number of rows5\n",
      "* \n",
      "* * \n",
      "* * * \n",
      "* * * * \n",
      "* * * * * \n",
      "* * * * * \n",
      "* * * * \n",
      "* * * \n",
      "* * \n",
      "* \n"
     ]
    }
   ],
   "source": [
    "n=int(input(\"enter the number of rows\"))\n",
    "\n",
    "for i in range(1,n+1):\n",
    "    for j in range(1,i+1):\n",
    "        print(\"*\",end=\" \")\n",
    "    print()\n",
    "    \n",
    "for i in range(n,0,-1):\n",
    "    for j in range(1,i+1):\n",
    "        print(\"*\",end=\" \")\n",
    "    print()"
   ]
  },
  {
   "cell_type": "code",
   "execution_count": 4,
   "id": "400d1adc",
   "metadata": {},
   "outputs": [
    {
     "name": "stdout",
     "output_type": "stream",
     "text": [
      "enter the number of rows5\n",
      "* \n",
      "* * \n",
      "* * * \n",
      "* * * * \n",
      "* * * * * \n",
      "* * * * \n",
      "* * * \n",
      "* * \n",
      "* \n"
     ]
    }
   ],
   "source": [
    "n=int(input(\"enter the number of rows\"))\n",
    "\n",
    "for i in range(1,n+1):\n",
    "    for j in range(1,i+1):\n",
    "        print(\"*\",end=\" \")\n",
    "    print()\n",
    "    \n",
    "for i in range(n-1,0,-1):\n",
    "    for j in range(1,i+1):\n",
    "        print(\"*\",end=\" \")\n",
    "    print()"
   ]
  },
  {
   "cell_type": "code",
   "execution_count": 5,
   "id": "b086f080",
   "metadata": {},
   "outputs": [
    {
     "name": "stdout",
     "output_type": "stream",
     "text": [
      "enter the number of rows5\n",
      "i \n",
      "i i \n",
      "i i i \n",
      "i i i i \n",
      "i i i i i \n"
     ]
    }
   ],
   "source": [
    "n=int(input(\"enter the number of rows\"))\n",
    "\n",
    "for i in range(1,n+1):\n",
    "    for j in range(1,i+1):\n",
    "        print(\"i\",end=\" \")\n",
    "    print()"
   ]
  },
  {
   "cell_type": "code",
   "execution_count": 6,
   "id": "d15733bf",
   "metadata": {},
   "outputs": [
    {
     "name": "stdout",
     "output_type": "stream",
     "text": [
      "enter the number of rows5\n",
      "1 \n",
      "2 2 \n",
      "3 3 3 \n",
      "4 4 4 4 \n",
      "5 5 5 5 5 \n"
     ]
    }
   ],
   "source": [
    "n=int(input(\"enter the number of rows\"))\n",
    "\n",
    "for i in range(1,n+1):\n",
    "    for j in range(1,i+1):\n",
    "        print(i,end=\" \")\n",
    "    print()"
   ]
  },
  {
   "cell_type": "code",
   "execution_count": 7,
   "id": "afcc13a7",
   "metadata": {},
   "outputs": [
    {
     "name": "stdout",
     "output_type": "stream",
     "text": [
      "enter the number of rows5\n",
      "1 \n",
      "1 2 \n",
      "1 2 3 \n",
      "1 2 3 4 \n",
      "1 2 3 4 5 \n"
     ]
    }
   ],
   "source": [
    "n=int(input(\"enter the number of rows\"))\n",
    "\n",
    "for i in range(1,n+1):\n",
    "    for j in range(1,i+1):\n",
    "        print(j,end=\" \")\n",
    "    print()"
   ]
  },
  {
   "cell_type": "code",
   "execution_count": 9,
   "id": "54d9f3fb",
   "metadata": {},
   "outputs": [
    {
     "name": "stdout",
     "output_type": "stream",
     "text": [
      "enter the number of rows5\n",
      "1 \n",
      "1 2 \n",
      "1 2 3 \n",
      "1 2 3 4 \n",
      "1 2 3 4 5 \n",
      "1 2 3 4 \n",
      "1 2 3 \n",
      "1 2 \n",
      "1 \n"
     ]
    }
   ],
   "source": [
    "n=int(input(\"enter the number of rows\"))\n",
    "\n",
    "for i in range(1,n+1):\n",
    "    for j in range(1,i+1):\n",
    "        print(j,end=\" \")\n",
    "    print()\n",
    "    \n",
    "for i in range(n-1,0,-1):\n",
    "    for j in range(1,i+1):\n",
    "        print(j,end=\" \")\n",
    "    print()"
   ]
  },
  {
   "cell_type": "code",
   "execution_count": 10,
   "id": "5d3ca113",
   "metadata": {},
   "outputs": [
    {
     "name": "stdout",
     "output_type": "stream",
     "text": [
      "enter the number of rows5\n",
      "11 \n",
      "12 22 \n",
      "13 23 33 \n",
      "14 24 34 44 \n",
      "15 25 35 45 55 \n"
     ]
    }
   ],
   "source": [
    "n=int(input(\"enter the number of rows\"))\n",
    "\n",
    "for i in range(1,n+1):\n",
    "    for j in range(1,i+1):\n",
    "        print(\"{0}{1}\".format(j,i),end=\" \")\n",
    "    print()\n",
    "    "
   ]
  },
  {
   "cell_type": "code",
   "execution_count": 11,
   "id": "058c9053",
   "metadata": {},
   "outputs": [
    {
     "name": "stdout",
     "output_type": "stream",
     "text": [
      "enter the number of rows5\n",
      "11 \n",
      "21 22 \n",
      "31 32 33 \n",
      "41 42 43 44 \n",
      "51 52 53 54 55 \n"
     ]
    }
   ],
   "source": [
    "n=int(input(\"enter the number of rows\"))\n",
    "\n",
    "for i in range(1,n+1):\n",
    "    for j in range(1,i+1):\n",
    "        print(\"{0}{1}\".format(i,j),end=\" \")\n",
    "    print()"
   ]
  },
  {
   "cell_type": "code",
   "execution_count": 14,
   "id": "3401ba91",
   "metadata": {},
   "outputs": [
    {
     "name": "stdout",
     "output_type": "stream",
     "text": [
      "enter the number of rows5\n",
      "A \n",
      "B C \n",
      "D E F \n",
      "G H I J \n",
      "K L M N O \n",
      "P Q R S \n",
      "T U V \n",
      "W X \n",
      "Y \n"
     ]
    }
   ],
   "source": [
    "#aplphabets in ascending order\n",
    "n=int(input(\"enter the number of rows\"))\n",
    "ch=64\n",
    "\n",
    "for i in range(1,n+1):\n",
    "    for j in range(1,i+1):\n",
    "        ch=ch+1\n",
    "        print(\"{0}\".format(chr(ch)),end=\" \")\n",
    "    print()\n",
    "    \n",
    "for i in range(n-1,0,-1):\n",
    "    for j in range(1,i+1):\n",
    "        ch=ch+1\n",
    "        print(\"{0}\".format(chr(ch)),end=\" \")\n",
    "    print()"
   ]
  },
  {
   "cell_type": "code",
   "execution_count": 18,
   "id": "ed87e0f2",
   "metadata": {},
   "outputs": [
    {
     "name": "stdout",
     "output_type": "stream",
     "text": [
      "enter the number of rows5\n",
      "01 \n",
      "02 03 \n",
      "04 05 06 \n",
      "07 08 09 10 \n",
      "11 12 13 14 15 \n"
     ]
    },
    {
     "data": {
      "text/plain": [
       "'    \\nfor i in range(n-1,0,-1):\\n    for j in range(1,i+1):\\n        ch=ch+1\\n        print(\"{0}\".format(chr(ch)),end=\" \")\\n    print\\n    '"
      ]
     },
     "execution_count": 18,
     "metadata": {},
     "output_type": "execute_result"
    }
   ],
   "source": [
    "n=int(input(\"enter the number of rows\"))\n",
    "sum = 0\n",
    "\n",
    "for i in range(1,n+1):\n",
    "    for j in range(1,i+1):\n",
    "        sum=sum+1\n",
    "        print(\"{:02d}\".format(sum),end=\" \")\n",
    "    print()\n",
    "'''    \n",
    "for i in range(n-1,0,-1):\n",
    "    for j in range(1,i+1):\n",
    "        ch=ch+1\n",
    "        print(\"{0}\".format(chr(ch)),end=\" \")\n",
    "    print\n",
    "    '''"
   ]
  }
 ],
 "metadata": {
  "kernelspec": {
   "display_name": "Python 3",
   "language": "python",
   "name": "python3"
  },
  "language_info": {
   "codemirror_mode": {
    "name": "ipython",
    "version": 3
   },
   "file_extension": ".py",
   "mimetype": "text/x-python",
   "name": "python",
   "nbconvert_exporter": "python",
   "pygments_lexer": "ipython3",
   "version": "3.8.8"
  }
 },
 "nbformat": 4,
 "nbformat_minor": 5
}
