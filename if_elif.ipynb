{
 "cells": [
  {
   "cell_type": "code",
   "execution_count": 1,
   "id": "064a41e9",
   "metadata": {},
   "outputs": [
    {
     "name": "stdout",
     "output_type": "stream",
     "text": [
      "enter a city namekolkata\n"
     ]
    }
   ],
   "source": [
    "india = [\"mumbai\", \"banglore\", \"chennai\", \"delhi\"]\n",
    "pakistan = [\"lahore\",\"karachi\",\"islamabad\"]\n",
    "bangladesh = [\"dhaka\", \"khulna\", \"rangpur\"]\n",
    "\n",
    "n=input(\"enter a city name\")"
   ]
  },
  {
   "cell_type": "code",
   "execution_count": 8,
   "id": "dea0ce17",
   "metadata": {},
   "outputs": [
    {
     "name": "stdout",
     "output_type": "stream",
     "text": [
      "enter sugar level50\n",
      "sugar level is normal\n"
     ]
    }
   ],
   "source": [
    "n=int(input(\"enter sugar level\"))\n",
    "if n>80 and n<100:\n",
    "    print(\"sugar level is low\")\n",
    "    \n",
    "elif n>100:\n",
    "    print(\"sugar level is high\")\n",
    "    \n",
    "else:\n",
    "    print(\"sugar level is normal\")"
   ]
  },
  {
   "cell_type": "code",
   "execution_count": 16,
   "id": "b167e653",
   "metadata": {},
   "outputs": [
    {
     "name": "stdout",
     "output_type": "stream",
     "text": [
      "enter city name\tbanglore\n",
      "banglore is present in India\n"
     ]
    }
   ],
   "source": [
    "India = [\"mumbai\", \"banglore\", \"chennai\", \"delhi\"]\n",
    "pakistan = [\"lahore\",\"karachi\",\"islamabad\"]\n",
    "bangladesh = [\"dhaka\", \"khulna\", \"rangpur\"]\n",
    "\n",
    "city=input(\"enter city name\\t\")\n",
    "\n",
    "if city in India:\n",
    "    print(f\"{city} is present in India\")\n",
    "elif city in pakistan:\n",
    "    print(f\"{city} is present in pakistan\")\n",
    "else:\n",
    "    print(f\"{city} present in bangladesh\") \n",
    "                          \n",
    "                "
   ]
  },
  {
   "cell_type": "code",
   "execution_count": 6,
   "id": "ff2f2264",
   "metadata": {},
   "outputs": [
    {
     "name": "stdout",
     "output_type": "stream",
     "text": [
      "enter  city1chennai\n",
      "enter  city2delhi\n",
      "chennai delhi  is present in India\n"
     ]
    }
   ],
   "source": [
    "India = [\"mumbai\", \"banglore\", \"chennai\", \"delhi\"]\n",
    "pakistan = [\"lahore\",\"karachi\",\"islamabad\"]\n",
    "bangladesh = [\"dhaka\", \"khulna\", \"rangpur\"]\n",
    "\n",
    "city1=input(\"enter  city1\")\n",
    "city2=input(\"enter  city2\")\n",
    "city=[city1,city2]\n",
    "\n",
    "if  city1 in India and city2 in India:\n",
    "    print(f\"{city1} {city2}  is present in India\")\n",
    "elif city1 in pakistan and city2 in pakistan:\n",
    "    print(f\"{city1} {city2}  is present in pakistan\")\n",
    "elif city1 in bangladesh and city2 in bangladesh:\n",
    "    print(f\"{city1} {city2}  present in bangladesh\") \n",
    "else:\n",
    "    print(\"not present\")\n",
    "                          "
   ]
  },
  {
   "cell_type": "code",
   "execution_count": 2,
   "id": "4d0456bf",
   "metadata": {},
   "outputs": [
    {
     "name": "stdout",
     "output_type": "stream",
     "text": [
      "enter city name1delhi\n",
      "enter city name 2chennai\n",
      "both cities in India\n"
     ]
    }
   ],
   "source": [
    "#tried using for loop\n",
    "India = [\"mumbai\", \"banglore\", \"chennai\", \"delhi\"]\n",
    "pakistan = [\"lahore\",\"karachi\",\"islamabad\"]\n",
    "bangladesh = [\"dhaka\", \"khulna\", \"rangpur\"]\n",
    "\n",
    "city1=input(\"enter city name1\")\n",
    "city2=input(\"enter city name 2\")\n",
    "city=[city1,city2]\n",
    "\n",
    "for i in city:\n",
    "    if i in India:\n",
    "        print(\"both cities in India\")\n",
    "        break\n",
    "    elif i in pakistan:\n",
    "        print(\"both cities in pakistan\")\n",
    "        break\n",
    "    elif i in bangladesh:\n",
    "        print(\"both citties in bangladesh\")\n",
    "        break\n",
    "        \n",
    "    else:\n",
    "        print(\"not present anywhere\")\n",
    "    "
   ]
  },
  {
   "cell_type": "code",
   "execution_count": null,
   "id": "c7ea90b4",
   "metadata": {},
   "outputs": [],
   "source": []
  }
 ],
 "metadata": {
  "kernelspec": {
   "display_name": "Python 3",
   "language": "python",
   "name": "python3"
  },
  "language_info": {
   "codemirror_mode": {
    "name": "ipython",
    "version": 3
   },
   "file_extension": ".py",
   "mimetype": "text/x-python",
   "name": "python",
   "nbconvert_exporter": "python",
   "pygments_lexer": "ipython3",
   "version": "3.8.8"
  }
 },
 "nbformat": 4,
 "nbformat_minor": 5
}
